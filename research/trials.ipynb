{
 "cells": [
  {
   "cell_type": "code",
   "execution_count": 1,
   "metadata": {},
   "outputs": [],
   "source": [
    "import gdown"
   ]
  },
  {
   "cell_type": "code",
   "execution_count": 2,
   "metadata": {},
   "outputs": [],
   "source": [
    "url=\"https://drive.google.com/file/d/1uoznzhp0uB0gOTIFkNIFm5Jiy7l3U716/view?usp=drive_link\""
   ]
  },
  {
   "cell_type": "code",
   "execution_count": 3,
   "metadata": {},
   "outputs": [
    {
     "data": {
      "text/plain": [
       "['https:',\n",
       " '',\n",
       " 'drive.google.com',\n",
       " 'file',\n",
       " 'd',\n",
       " '1uoznzhp0uB0gOTIFkNIFm5Jiy7l3U716',\n",
       " 'view?usp=drive_link']"
      ]
     },
     "execution_count": 3,
     "metadata": {},
     "output_type": "execute_result"
    }
   ],
   "source": [
    "url.split(\"/\")"
   ]
  },
  {
   "cell_type": "code",
   "execution_count": 5,
   "metadata": {},
   "outputs": [
    {
     "data": {
      "text/plain": [
       "'1uoznzhp0uB0gOTIFkNIFm5Jiy7l3U716'"
      ]
     },
     "execution_count": 5,
     "metadata": {},
     "output_type": "execute_result"
    }
   ],
   "source": [
    "file_id=url.split(\"/\")[-2]\n",
    "file_id"
   ]
  },
  {
   "cell_type": "code",
   "execution_count": 10,
   "metadata": {},
   "outputs": [
    {
     "name": "stderr",
     "output_type": "stream",
     "text": [
      "Downloading...\n",
      "From (original): https://drive.google.com/uc?/export=download&id=1uoznzhp0uB0gOTIFkNIFm5Jiy7l3U716\n",
      "From (redirected): https://drive.google.com/uc?%2Fexport=download&id=1uoznzhp0uB0gOTIFkNIFm5Jiy7l3U716&confirm=t&uuid=2e1b5631-bf71-4934-95c3-47a9c373cb51\n",
      "To: e:\\cv projects\\Deep Learning MLFlow and DVC\\research\\Chest Ct Scan.zip\n",
      "100%|██████████| 124M/124M [00:15<00:00, 8.13MB/s] \n"
     ]
    },
    {
     "data": {
      "text/plain": [
       "'Chest Ct Scan.zip'"
      ]
     },
     "execution_count": 10,
     "metadata": {},
     "output_type": "execute_result"
    }
   ],
   "source": [
    "prefix = 'https://drive.google.com/uc?/export=download&id='\n",
    "gdown.download(prefix+file_id,\"Chest Ct Scan.zip\")"
   ]
  },
  {
   "cell_type": "code",
   "execution_count": null,
   "metadata": {},
   "outputs": [],
   "source": []
  }
 ],
 "metadata": {
  "kernelspec": {
   "display_name": "env",
   "language": "python",
   "name": "python3"
  },
  "language_info": {
   "codemirror_mode": {
    "name": "ipython",
    "version": 3
   },
   "file_extension": ".py",
   "mimetype": "text/x-python",
   "name": "python",
   "nbconvert_exporter": "python",
   "pygments_lexer": "ipython3",
   "version": "3.11.4"
  }
 },
 "nbformat": 4,
 "nbformat_minor": 2
}
